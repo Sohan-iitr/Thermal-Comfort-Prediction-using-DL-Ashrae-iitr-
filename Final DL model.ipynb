{
  "nbformat": 4,
  "nbformat_minor": 0,
  "metadata": {
    "colab": {
      "provenance": []
    },
    "kernelspec": {
      "name": "python3",
      "display_name": "Python 3"
    },
    "language_info": {
      "name": "python"
    }
  },
  "cells": [
    {
      "cell_type": "code",
      "execution_count": null,
      "metadata": {
        "id": "P2dltjyrzIyD"
      },
      "outputs": [],
      "source": [
        "import pandas as pd\n",
        "import numpy as np\n",
        "import torch\n",
        "import torch.nn as nn\n",
        "from torch.utils.data import Dataset, DataLoader\n",
        "from sklearn.model_selection import train_test_split\n",
        "from sklearn.preprocessing import StandardScaler, LabelEncoder\n",
        "from sklearn.metrics import mean_squared_error\n",
        "import matplotlib.pyplot as plt"
      ]
    },
    {
      "cell_type": "code",
      "source": [
        "df = pd.read_csv(\"/content/ashrae_db2.01.csv\")"
      ],
      "metadata": {
        "colab": {
          "base_uri": "https://localhost:8080/"
        },
        "id": "rvF7nFFQ0V1w",
        "outputId": "5c047384-5097-4ca0-c213-36f3b1c74870"
      },
      "execution_count": null,
      "outputs": [
        {
          "output_type": "stream",
          "name": "stderr",
          "text": [
            "<ipython-input-2-a9437d0b165b>:1: DtypeWarning: Columns (10,11,13,18,19,34,50) have mixed types. Specify dtype option on import or set low_memory=False.\n",
            "  df = pd.read_csv(\"/content/ashrae_db2.01.csv\")\n"
          ]
        }
      ]
    },
    {
      "cell_type": "code",
      "source": [
        "threshold = len(df) * 0.5\n",
        "df = df.dropna(thresh=threshold, axis=1)"
      ],
      "metadata": {
        "id": "VqAjhc-a6j2a"
      },
      "execution_count": null,
      "outputs": []
    },
    {
      "cell_type": "code",
      "source": [
        "drop_cols = [\n",
        "    \"Publication (Citation)\", \"Data contributor\", \"Database\",\n",
        "    \"Air temperature (F)\", \"Operative temperature (F)\", \"Radiant temperature (F)\",\n",
        "    \"Globe temperature (F)\", \"Tg_h (F)\", \"Tg_m (F)\", \"Tg_l (F)\",\n",
        "    \"Velocity_h (fpm)\", \"Velocity_m (fpm)\", \"Velocity_l (fpm)\", \"Air velocity (fpm)\",\n",
        "    \"Outdoor monthly air temperature (F)\"]"
      ],
      "metadata": {
        "id": "KlDIpxZP6nDw"
      },
      "execution_count": null,
      "outputs": []
    },
    {
      "cell_type": "code",
      "source": [
        "df = df.drop(columns=[col for col in drop_cols if col in df.columns])\n"
      ],
      "metadata": {
        "id": "BAsF-9NM6tCw"
      },
      "execution_count": null,
      "outputs": []
    },
    {
      "cell_type": "code",
      "source": [
        "df = df.dropna(subset=[\"Thermal sensation\", \"Air temperature (C)\", \"Relative humidity (%)\"])"
      ],
      "metadata": {
        "id": "zyyiJMW76w1V"
      },
      "execution_count": null,
      "outputs": []
    },
    {
      "cell_type": "code",
      "source": [
        "for col in df.columns:\n",
        "    if df[col].dtype == 'object':\n",
        "        df[col] = df[col].fillna(df[col].mode()[0])\n",
        "    else:\n",
        "        df[col] = df[col].fillna(df[col].mean())"
      ],
      "metadata": {
        "id": "1NRvIH-B6zB0"
      },
      "execution_count": null,
      "outputs": []
    },
    {
      "cell_type": "code",
      "source": [
        "target_col = \"PMV\"\n",
        "X = df.drop(columns=[target_col])\n",
        "y = df[target_col]"
      ],
      "metadata": {
        "id": "IfOyHRhY65sn"
      },
      "execution_count": null,
      "outputs": []
    },
    {
      "cell_type": "code",
      "source": [
        "categorical_cols = X.select_dtypes(include=\"object\").columns\n",
        "for col in categorical_cols:\n",
        "    X[col] = LabelEncoder().fit_transform(X[col])"
      ],
      "metadata": {
        "id": "3fzfv7fM7FtR"
      },
      "execution_count": null,
      "outputs": []
    },
    {
      "cell_type": "code",
      "source": [
        "X_train, X_test, y_train, y_test = train_test_split(X, y, test_size=0.2, random_state=42)"
      ],
      "metadata": {
        "id": "OG_7GnCM7YVR"
      },
      "execution_count": null,
      "outputs": []
    },
    {
      "cell_type": "code",
      "source": [
        "scaler = StandardScaler()\n",
        "X_train_scaled = scaler.fit_transform(X_train)\n",
        "X_test_scaled = scaler.transform(X_test)"
      ],
      "metadata": {
        "id": "TqrzaCz57Voa"
      },
      "execution_count": null,
      "outputs": []
    },
    {
      "cell_type": "code",
      "source": [
        "class ThermalDataset(Dataset):\n",
        "    def __init__(self, X, y):\n",
        "        self.X = torch.tensor(X, dtype=torch.float32)\n",
        "        self.y = torch.tensor(y.values, dtype=torch.float32).view(-1, 1)\n",
        "    def __len__(self):\n",
        "        return len(self.X)\n",
        "    def __getitem__(self, idx):\n",
        "        return self.X[idx], self.y[idx]"
      ],
      "metadata": {
        "id": "iqmeI152745w"
      },
      "execution_count": null,
      "outputs": []
    },
    {
      "cell_type": "code",
      "source": [
        "train_data = ThermalDataset(X_train_scaled, y_train)\n",
        "test_data = ThermalDataset(X_test_scaled, y_test)"
      ],
      "metadata": {
        "id": "Tjlwye878Ar3"
      },
      "execution_count": null,
      "outputs": []
    },
    {
      "cell_type": "code",
      "source": [
        "train_loader = DataLoader(train_data, batch_size=128, shuffle=True)\n",
        "test_loader = DataLoader(test_data, batch_size=128)"
      ],
      "metadata": {
        "id": "hTXKc0qY8GYl"
      },
      "execution_count": null,
      "outputs": []
    },
    {
      "cell_type": "code",
      "source": [
        "class ThermalRegressor(nn.Module):\n",
        "    def __init__(self, input_dim):\n",
        "        super(ThermalRegressor, self).__init__()\n",
        "        self.model = nn.Sequential(\n",
        "            nn.Linear(input_dim, 200),\n",
        "            nn.BatchNorm1d(200),\n",
        "            nn.ReLU(),\n",
        "            nn.Dropout(0.3),\n",
        "\n",
        "            nn.Linear(200,200),\n",
        "            nn.BatchNorm1d(200),\n",
        "            nn.ReLU(),\n",
        "            nn.Dropout(0.3),\n",
        "\n",
        "            nn.Linear(200,200),\n",
        "            nn.ReLU(),\n",
        "\n",
        "            nn.Linear(200, 1)\n",
        "        )\n",
        "\n",
        "    def forward(self, x):\n",
        "        return self.model(x)"
      ],
      "metadata": {
        "id": "REPRZlBH8LRn"
      },
      "execution_count": null,
      "outputs": []
    },
    {
      "cell_type": "code",
      "source": [
        "model = ThermalRegressor(X_train.shape[1])\n",
        "device = torch.device(\"cuda\" if torch.cuda.is_available() else \"cpu\")\n",
        "model = model.to(device)"
      ],
      "metadata": {
        "id": "DuNemx7s8OoE"
      },
      "execution_count": null,
      "outputs": []
    },
    {
      "cell_type": "code",
      "source": [
        "criterion = nn.MSELoss()\n",
        "optimizer = torch.optim.Adam(model.parameters(), lr=0.001)\n"
      ],
      "metadata": {
        "id": "3cypH19g8RVQ"
      },
      "execution_count": null,
      "outputs": []
    },
    {
      "cell_type": "code",
      "source": [
        "epochs = 100\n",
        "train_losses = []\n",
        "\n",
        "for epoch in range(epochs):\n",
        "    model.train()\n",
        "    total_loss = 0\n",
        "    for xb, yb in train_loader:\n",
        "        xb, yb = xb.to(device), yb.to(device)\n",
        "        optimizer.zero_grad()\n",
        "        preds = model(xb)\n",
        "        loss = criterion(preds, yb)\n",
        "        loss.backward()\n",
        "        optimizer.step()\n",
        "        total_loss += loss.item()\n",
        "    avg_loss = total_loss / len(train_loader)\n",
        "    train_losses.append(avg_loss)\n",
        "    print(f\"Epoch {epoch+1}/{epochs}, Loss: {avg_loss:.4f}\")\n"
      ],
      "metadata": {
        "colab": {
          "base_uri": "https://localhost:8080/"
        },
        "id": "90sNfPHR8Twb",
        "outputId": "9535b857-ccfd-4af7-8731-3bb6bbffc555"
      },
      "execution_count": null,
      "outputs": [
        {
          "output_type": "stream",
          "name": "stdout",
          "text": [
            "Epoch 1/100, Loss: 0.0553\n",
            "Epoch 2/100, Loss: 0.0261\n",
            "Epoch 3/100, Loss: 0.0191\n",
            "Epoch 4/100, Loss: 0.0172\n",
            "Epoch 5/100, Loss: 0.0149\n",
            "Epoch 6/100, Loss: 0.0130\n",
            "Epoch 7/100, Loss: 0.0122\n",
            "Epoch 8/100, Loss: 0.0108\n",
            "Epoch 9/100, Loss: 0.0105\n",
            "Epoch 10/100, Loss: 0.0100\n",
            "Epoch 11/100, Loss: 0.0095\n",
            "Epoch 12/100, Loss: 0.0092\n",
            "Epoch 13/100, Loss: 0.0089\n",
            "Epoch 14/100, Loss: 0.0084\n",
            "Epoch 15/100, Loss: 0.0088\n",
            "Epoch 16/100, Loss: 0.0082\n",
            "Epoch 17/100, Loss: 0.0078\n",
            "Epoch 18/100, Loss: 0.0078\n",
            "Epoch 19/100, Loss: 0.0075\n",
            "Epoch 20/100, Loss: 0.0071\n",
            "Epoch 21/100, Loss: 0.0075\n",
            "Epoch 22/100, Loss: 0.0075\n",
            "Epoch 23/100, Loss: 0.0070\n",
            "Epoch 24/100, Loss: 0.0070\n",
            "Epoch 25/100, Loss: 0.0070\n",
            "Epoch 26/100, Loss: 0.0069\n",
            "Epoch 27/100, Loss: 0.0067\n",
            "Epoch 28/100, Loss: 0.0065\n",
            "Epoch 29/100, Loss: 0.0064\n",
            "Epoch 30/100, Loss: 0.0062\n",
            "Epoch 31/100, Loss: 0.0063\n",
            "Epoch 32/100, Loss: 0.0062\n",
            "Epoch 33/100, Loss: 0.0061\n",
            "Epoch 34/100, Loss: 0.0058\n",
            "Epoch 35/100, Loss: 0.0060\n",
            "Epoch 36/100, Loss: 0.0060\n",
            "Epoch 37/100, Loss: 0.0056\n",
            "Epoch 38/100, Loss: 0.0057\n",
            "Epoch 39/100, Loss: 0.0055\n",
            "Epoch 40/100, Loss: 0.0054\n",
            "Epoch 41/100, Loss: 0.0055\n",
            "Epoch 42/100, Loss: 0.0055\n",
            "Epoch 43/100, Loss: 0.0053\n",
            "Epoch 44/100, Loss: 0.0053\n",
            "Epoch 45/100, Loss: 0.0054\n",
            "Epoch 46/100, Loss: 0.0050\n",
            "Epoch 47/100, Loss: 0.0051\n",
            "Epoch 48/100, Loss: 0.0052\n",
            "Epoch 49/100, Loss: 0.0049\n",
            "Epoch 50/100, Loss: 0.0049\n",
            "Epoch 51/100, Loss: 0.0049\n",
            "Epoch 52/100, Loss: 0.0048\n",
            "Epoch 53/100, Loss: 0.0047\n",
            "Epoch 54/100, Loss: 0.0050\n",
            "Epoch 55/100, Loss: 0.0046\n",
            "Epoch 56/100, Loss: 0.0047\n",
            "Epoch 57/100, Loss: 0.0047\n",
            "Epoch 58/100, Loss: 0.0047\n",
            "Epoch 59/100, Loss: 0.0044\n",
            "Epoch 60/100, Loss: 0.0047\n",
            "Epoch 61/100, Loss: 0.0045\n",
            "Epoch 62/100, Loss: 0.0044\n",
            "Epoch 63/100, Loss: 0.0045\n",
            "Epoch 64/100, Loss: 0.0044\n",
            "Epoch 65/100, Loss: 0.0042\n",
            "Epoch 66/100, Loss: 0.0043\n",
            "Epoch 67/100, Loss: 0.0042\n",
            "Epoch 68/100, Loss: 0.0042\n",
            "Epoch 69/100, Loss: 0.0042\n",
            "Epoch 70/100, Loss: 0.0043\n",
            "Epoch 71/100, Loss: 0.0042\n",
            "Epoch 72/100, Loss: 0.0042\n",
            "Epoch 73/100, Loss: 0.0041\n",
            "Epoch 74/100, Loss: 0.0042\n",
            "Epoch 75/100, Loss: 0.0039\n",
            "Epoch 76/100, Loss: 0.0041\n",
            "Epoch 77/100, Loss: 0.0041\n",
            "Epoch 78/100, Loss: 0.0039\n",
            "Epoch 79/100, Loss: 0.0038\n",
            "Epoch 80/100, Loss: 0.0041\n",
            "Epoch 81/100, Loss: 0.0040\n",
            "Epoch 82/100, Loss: 0.0039\n",
            "Epoch 83/100, Loss: 0.0039\n",
            "Epoch 84/100, Loss: 0.0039\n",
            "Epoch 85/100, Loss: 0.0039\n",
            "Epoch 86/100, Loss: 0.0038\n",
            "Epoch 87/100, Loss: 0.0038\n",
            "Epoch 88/100, Loss: 0.0039\n",
            "Epoch 89/100, Loss: 0.0037\n",
            "Epoch 90/100, Loss: 0.0036\n",
            "Epoch 91/100, Loss: 0.0038\n",
            "Epoch 92/100, Loss: 0.0039\n",
            "Epoch 93/100, Loss: 0.0039\n",
            "Epoch 94/100, Loss: 0.0038\n",
            "Epoch 95/100, Loss: 0.0036\n",
            "Epoch 96/100, Loss: 0.0036\n",
            "Epoch 97/100, Loss: 0.0035\n",
            "Epoch 98/100, Loss: 0.0036\n",
            "Epoch 99/100, Loss: 0.0036\n",
            "Epoch 100/100, Loss: 0.0035\n"
          ]
        }
      ]
    },
    {
      "cell_type": "code",
      "source": [
        "plt.plot(train_losses)\n",
        "plt.title(\"Training Loss\")\n",
        "plt.xlabel(\"Epoch\")\n",
        "plt.ylabel(\"MSE Loss\")\n",
        "plt.grid(True)\n",
        "plt.show()"
      ],
      "metadata": {
        "colab": {
          "base_uri": "https://localhost:8080/",
          "height": 472
        },
        "id": "QOBD6dOA8ZtY",
        "outputId": "5bc54f40-e5ec-4ab1-8e11-3ea289caf8a8"
      },
      "execution_count": null,
      "outputs": [
        {
          "output_type": "display_data",
          "data": {
            "text/plain": [
              "<Figure size 640x480 with 1 Axes>"
            ],
            "image/png": "[encoded data removed]"
          },
          "metadata": {}
        }
      ]
    },
    {
      "cell_type": "code",
      "source": [
        "model.eval()"
      ],
      "metadata": {
        "colab": {
          "base_uri": "https://localhost:8080/"
        },
        "id": "rVnxdjIz8cnJ",
        "outputId": "a436f56d-5c04-4773-9889-e599359adda3"
      },
      "execution_count": null,
      "outputs": [
        {
          "output_type": "execute_result",
          "data": {
            "text/plain": [
              "ThermalRegressor(\n",
              "  (model): Sequential(\n",
              "    (0): Linear(in_features=20, out_features=200, bias=True)\n",
              "    (1): BatchNorm1d(200, eps=1e-05, momentum=0.1, affine=True, track_running_stats=True)\n",
              "    (2): ReLU()\n",
              "    (3): Dropout(p=0.3, inplace=False)\n",
              "    (4): Linear(in_features=200, out_features=200, bias=True)\n",
              "    (5): BatchNorm1d(200, eps=1e-05, momentum=0.1, affine=True, track_running_stats=True)\n",
              "    (6): ReLU()\n",
              "    (7): Dropout(p=0.3, inplace=False)\n",
              "    (8): Linear(in_features=200, out_features=200, bias=True)\n",
              "    (9): ReLU()\n",
              "    (10): Linear(in_features=200, out_features=1, bias=True)\n",
              "  )\n",
              ")"
            ]
          },
          "metadata": {},
          "execution_count": 21
        }
      ]
    },
    {
      "cell_type": "code",
      "source": [
        "predictions = []\n",
        "actuals = []\n",
        "\n",
        "with torch.no_grad():\n",
        "    for xb, yb in test_loader:\n",
        "        xb = xb.to(device)\n",
        "        preds = model(xb).cpu().numpy()\n",
        "        predictions.extend(preds)\n",
        "        actuals.extend(yb.numpy())"
      ],
      "metadata": {
        "id": "rPcU8sW78koL"
      },
      "execution_count": null,
      "outputs": []
    },
    {
      "cell_type": "code",
      "source": [
        "rmse = np.sqrt(mean_squared_error(actuals, predictions))\n",
        "print(f\"\\n✅ Final RMSE on Test Set: {rmse:.4f}\")"
      ],
      "metadata": {
        "colab": {
          "base_uri": "https://localhost:8080/"
        },
        "id": "dy3FEUFk8lQ1",
        "outputId": "6405a9bb-ee18-44e5-ff5c-4b3b393f6604"
      },
      "execution_count": null,
      "outputs": [
        {
          "output_type": "stream",
          "name": "stdout",
          "text": [
            "\n",
            "✅ Final RMSE on Test Set: 0.1232\n"
          ]
        }
      ]
    },
    {
      "cell_type": "code",
      "source": [
        "from sklearn.metrics import r2_score, mean_absolute_error\n",
        "\n",
        "# R2 Score\n",
        "r2 = r2_score(actuals, predictions)\n",
        "print(f\"R² Score: {r2:.4f}\")\n",
        "\n",
        "# MAE\n",
        "mae = mean_absolute_error(actuals, predictions)\n",
        "print(f\"Mean Absolute Error (MAE): {mae:.4f}\")\n",
        "\n",
        "# RMSE (already printed, repeating here for clarity)\n",
        "rmse = np.sqrt(mean_squared_error(actuals, predictions))\n",
        "print(f\"Root Mean Squared Error (RMSE): {rmse:.4f}\")\n"
      ],
      "metadata": {
        "colab": {
          "base_uri": "https://localhost:8080/"
        },
        "id": "l9VDl4Lv8oTg",
        "outputId": "02cd5dfd-c20c-4789-fe84-588bf11c1727"
      },
      "execution_count": null,
      "outputs": [
        {
          "output_type": "stream",
          "name": "stdout",
          "text": [
            "R² Score: 0.9760\n",
            "Mean Absolute Error (MAE): 0.0641\n",
            "Root Mean Squared Error (RMSE): 0.1232\n"
          ]
        }
      ]
    },
    {
      "cell_type": "markdown",
      "source": [
        "Lets cross verify using cross validation"
      ],
      "metadata": {
        "id": "9Vb9wZITCCKL"
      }
    },
    {
      "cell_type": "code",
      "source": [
        "from sklearn.model_selection import KFold\n",
        "\n",
        "k = 5\n",
        "kf = KFold(n_splits=k, shuffle=True, random_state=42)\n",
        "\n",
        "rmse_list = []\n",
        "r2_list = []\n",
        "mae_list = []\n",
        "\n",
        "for fold, (train_idx, val_idx) in enumerate(kf.split(X_scaled)):\n",
        "    print(f\"\\n🔁 Fold {fold+1}/{k}\")\n",
        "\n",
        "    # Split data for this fold\n",
        "    X_train_fold, X_val_fold = X_scaled[train_idx], X_scaled[val_idx]\n",
        "    y_train_fold, y_val_fold = y.iloc[train_idx], y.iloc[val_idx]\n",
        "\n",
        "    # PyTorch datasets\n",
        "    train_data = ThermalDataset(X_train_fold, y_train_fold)\n",
        "    val_data = ThermalDataset(X_val_fold, y_val_fold)\n",
        "\n",
        "    train_loader = DataLoader(train_data, batch_size=128, shuffle=True)\n",
        "    val_loader = DataLoader(val_data, batch_size=128)\n",
        "\n",
        "    # Initialize new model for each fold\n",
        "    model = ThermalRegressor(X_train_fold.shape[1]).to(device)\n",
        "    criterion = nn.MSELoss()\n",
        "    optimizer = torch.optim.Adam(model.parameters(), lr=0.001)\n",
        "\n",
        "    # Train model\n",
        "    for epoch in range(30):  # Use fewer epochs per fold\n",
        "        model.train()\n",
        "        for xb, yb in train_loader:\n",
        "            xb, yb = xb.to(device), yb.to(device)\n",
        "            optimizer.zero_grad()\n",
        "            preds = model(xb)\n",
        "            loss = criterion(preds, yb)\n",
        "            loss.backward()\n",
        "            optimizer.step()\n",
        "\n",
        "    # Evaluate\n",
        "    model.eval()\n",
        "    predictions, actuals = [], []\n",
        "    with torch.no_grad():\n",
        "        for xb, yb in val_loader:\n",
        "            xb = xb.to(device)\n",
        "            preds = model(xb).cpu().numpy()\n",
        "            predictions.extend(preds)\n",
        "            actuals.extend(yb.numpy())\n",
        "\n",
        "    # Metrics\n",
        "    rmse = np.sqrt(mean_squared_error(actuals, predictions))\n",
        "    r2 = r2_score(actuals, predictions)\n",
        "    mae = mean_absolute_error(actuals, predictions)\n",
        "\n",
        "    print(f\"✅ Fold {fold+1} - RMSE: {rmse:.4f}, R²: {r2:.4f}, MAE: {mae:.4f}\")\n",
        "\n",
        "    rmse_list.append(rmse)\n",
        "    r2_list.append(r2)\n",
        "    mae_list.append(mae)\n",
        "\n",
        "# Final averaged results\n",
        "print(\"\\n📊 Cross-Validation Results:\")\n",
        "print(f\"Average RMSE: {np.mean(rmse_list):.4f}\")\n",
        "print(f\"Average R²: {np.mean(r2_list):.4f}\")\n",
        "print(f\"Average MAE: {np.mean(mae_list):.4f}\")\n"
      ],
      "metadata": {
        "colab": {
          "base_uri": "https://localhost:8080/"
        },
        "id": "kDE1xEDw-Sh5",
        "outputId": "8ef6b2dc-7493-4e8e-cb21-76d5d082c857"
      },
      "execution_count": null,
      "outputs": [
        {
          "output_type": "stream",
          "name": "stdout",
          "text": [
            "\n",
            "🔁 Fold 1/5\n",
            "✅ Fold 1 - RMSE: 0.0839, R²: 0.9889, MAE: 0.0488\n",
            "\n",
            "🔁 Fold 2/5\n",
            "✅ Fold 2 - RMSE: 0.0667, R²: 0.9931, MAE: 0.0422\n",
            "\n",
            "🔁 Fold 3/5\n",
            "✅ Fold 3 - RMSE: 0.0620, R²: 0.9941, MAE: 0.0397\n",
            "\n",
            "🔁 Fold 4/5\n",
            "✅ Fold 4 - RMSE: 0.1116, R²: 0.9802, MAE: 0.0675\n",
            "\n",
            "🔁 Fold 5/5\n",
            "✅ Fold 5 - RMSE: 0.0902, R²: 0.9871, MAE: 0.0547\n",
            "\n",
            "📊 Cross-Validation Results:\n",
            "Average RMSE: 0.0829\n",
            "Average R²: 0.9887\n",
            "Average MAE: 0.0506\n"
          ]
        }
      ]
    },
    {
      "cell_type": "code",
      "source": [],
      "metadata": {
        "id": "8zgmnZnI_OGF"
      },
      "execution_count": null,
      "outputs": []
    }
  ]
}