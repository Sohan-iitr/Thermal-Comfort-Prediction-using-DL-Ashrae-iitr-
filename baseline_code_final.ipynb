{
  "nbformat": 4,
  "nbformat_minor": 0,
  "metadata": {
    "colab": {
      "provenance": []
    },
    "kernelspec": {
      "name": "python3",
      "display_name": "Python 3"
    },
    "language_info": {
      "name": "python"
    }
  },
  "cells": [
    {
      "cell_type": "code",
      "source": [
        "import pandas as pd\n",
        "from sklearn.model_selection import train_test_split\n",
        "from sklearn.pipeline import Pipeline\n",
        "from sklearn.compose import ColumnTransformer\n",
        "from sklearn.preprocessing import OneHotEncoder, StandardScaler\n",
        "from sklearn.impute import SimpleImputer\n",
        "from sklearn.ensemble import RandomForestRegressor, AdaBoostRegressor\n",
        "from sklearn.tree import DecisionTreeRegressor\n",
        "from sklearn.linear_model import ElasticNet\n",
        "from sklearn.metrics import mean_squared_error, r2_score\n",
        "import numpy as np"
      ],
      "metadata": {
        "id": "Fcasj0fFI4Qn"
      },
      "execution_count": null,
      "outputs": []
    },
    {
      "cell_type": "code",
      "source": [
        "# Load the dataset safely\n",
        "df = pd.read_csv(\"/content/ashrae_db2.01.csv\", low_memory=False)\n",
        "\n",
        "# Drop rows with NaN target\n",
        "df = df.dropna(subset=[\"PMV\"])\n",
        "\n",
        "# Attempt to convert object columns to numeric if possible\n",
        "for col in df.columns:\n",
        "    if df[col].dtype == 'object':\n",
        "        try:\n",
        "            df[col] = pd.to_numeric(df[col])\n",
        "        except ValueError:\n",
        "            pass  # Keep as object if not convertible"
      ],
      "metadata": {
        "id": "aOh_LqplLhpO"
      },
      "execution_count": null,
      "outputs": []
    },
    {
      "cell_type": "code",
      "source": [
        "# Separate features and target\n",
        "target_col = \"PMV\"\n",
        "X = df.drop(columns=target_col)\n",
        "y = df[target_col]\n",
        "\n",
        "# Split into train and test sets\n",
        "X_train, X_test, y_train, y_test = train_test_split(\n",
        "    X, y, test_size=0.2, random_state=42)"
      ],
      "metadata": {
        "id": "PHuUoJM0MruX"
      },
      "execution_count": null,
      "outputs": []
    },
    {
      "cell_type": "code",
      "source": [
        "# Re-identify column types after cleaning\n",
        "numeric_features = X_train.select_dtypes(include=[\"int64\", \"float64\"]).columns.tolist()\n",
        "categorical_features = X_train.select_dtypes(include=[\"object\", \"category\"]).columns.tolist()\n",
        "\n",
        "# Preprocessing pipelines\n",
        "numeric_transformer = Pipeline(steps=[\n",
        "    (\"imputer\", SimpleImputer(strategy=\"mean\")),\n",
        "    (\"scaler\", StandardScaler())\n",
        "])\n",
        "\n",
        "categorical_transformer = Pipeline(steps=[\n",
        "    (\"imputer\", SimpleImputer(strategy=\"most_frequent\")),\n",
        "    (\"onehot\", OneHotEncoder(handle_unknown=\"ignore\", sparse_output=False))\n",
        "])\n",
        "\n",
        "# Combine preprocessing\n",
        "preprocessor = ColumnTransformer(transformers=[\n",
        "    (\"num\", numeric_transformer, numeric_features),\n",
        "    (\"cat\", categorical_transformer, categorical_features)\n",
        "])\n"
      ],
      "metadata": {
        "id": "ZPg6axsTMtml"
      },
      "execution_count": null,
      "outputs": []
    },
    {
      "cell_type": "code",
      "source": [
        "from sklearn.ensemble import GradientBoostingRegressor"
      ],
      "metadata": {
        "id": "GxBENRbQO-c2"
      },
      "execution_count": null,
      "outputs": []
    },
    {
      "cell_type": "code",
      "source": [
        "# Models to evaluate\n",
        "models = {\n",
        "    \"AdaBoost\": AdaBoostRegressor(random_state=69,n_estimators=30),\n",
        "    \"DecisionTree\": DecisionTreeRegressor(random_state=69,max_depth=3),\n",
        "    \"ElasticNet\": ElasticNet(random_state=69)\n",
        "}"
      ],
      "metadata": {
        "id": "NBZU0xccMz1M"
      },
      "execution_count": null,
      "outputs": []
    },
    {
      "cell_type": "code",
      "source": [
        "# Train and evaluate each model\n",
        "results = []\n",
        "\n",
        "for name, model in models.items():\n",
        "    clf = Pipeline(steps=[\n",
        "        (\"preprocessor\", preprocessor),\n",
        "        (\"regressor\", model)\n",
        "    ])\n",
        "\n",
        "    clf.fit(X_train, y_train)\n",
        "    y_pred = clf.predict(X_test)\n",
        "\n",
        "    mse = mean_squared_error(y_test, y_pred)\n",
        "    r2 = r2_score(y_test, y_pred)\n",
        "\n",
        "    results.append({\n",
        "        \"Model\": name,\n",
        "        \"MSE\": round(mse, 4),\n",
        "        \"R² Score\": round(r2, 4)\n",
        "    })\n",
        "\n",
        "# Display results\n",
        "results_df = pd.DataFrame(results)\n",
        "print(results_df)"
      ],
      "metadata": {
        "colab": {
          "base_uri": "https://localhost:8080/"
        },
        "id": "N3jFmjuVM2-R",
        "outputId": "b3057713-3a56-4e06-e4da-14121d4ce3cd"
      },
      "execution_count": null,
      "outputs": [
        {
          "output_type": "stream",
          "name": "stdout",
          "text": [
            "          Model     MSE  R² Score\n",
            "0      AdaBoost  0.0323    0.9648\n",
            "1  DecisionTree  0.0506    0.9447\n",
            "2    ElasticNet  0.4728    0.4841\n"
          ]
        }
      ]
    },
    {
      "cell_type": "code",
      "source": [],
      "metadata": {
        "id": "boQQHlYlRvwh"
      },
      "execution_count": null,
      "outputs": []
    }
  ]
}